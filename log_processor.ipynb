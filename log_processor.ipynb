{
 "cells": [
  {
   "cell_type": "markdown",
   "id": "08e4a625-d4f3-4437-82bd-f7d4c6f35e1d",
   "metadata": {},
   "source": [
    "# Usage\n",
    "\n",
    "# Requirements and Setup"
   ]
  },
  {
   "cell_type": "code",
   "execution_count": 2,
   "id": "f9bdd15d-580a-448f-ac86-5e4d427e39bf",
   "metadata": {
    "jupyter": {
     "source_hidden": true
    }
   },
   "outputs": [],
   "source": [
    "import struct\n",
    "import pandas as pd\n",
    "from enum import IntEnum\n",
    "import os, time, datetime\n",
    "import pyarrow.feather as feather\n",
    "\n",
    "# values are 16-byte in packet unless noted here\n",
    "class LogFmt(IntEnum):\n",
    "\tTACH = 0 \t\t# resolution = 1\n",
    "\tCHT1 = 1 \t\t# CHT and EGT resolution is all 1 degree (F?)\n",
    "\tCHT2 = 2\n",
    "\tCHT3 = 3\n",
    "\tCHT4 = 4\n",
    "\tCHT5 = 5\n",
    "\tCHT6 = 6\n",
    "\tEGT1 = 7\n",
    "\tEGT2 = 8\n",
    "\tEGT3 = 9\n",
    "\tEGT4 = 10\n",
    "\tEGT5 = 11\n",
    "\tEGT6 = 12\n",
    "\tAUX5 = 13\n",
    "\tAUX6 = 14\n",
    "\tASPD = 15\n",
    "\tALT = 16 \t\t# altitude in 10s of ft, 2s complement\n",
    "\tVOLT = 17 \t\t# resolution 100 mV\n",
    "\tFUELF = 18\t\t# Fuel Flow resolution 0.1 gal/hr\n",
    "\tUNITT = 19 \t\t# 1-byte internal instrument temp\n",
    "\tCARBT = 20 \t\t# 1-byte carb temp, 2s complement\n",
    "\tROCSGN = 21\t\t# vert speed, 100 fpm resolution 2s complement\n",
    "\tOAT = 22\t\t# unsigned 8-bit value offset by +50\n",
    "\tOILT = 23\n",
    "\tOILP = 24 \t\t# 1-byte, resolution 1 psi?\n",
    "\tAUX1 = 25\n",
    "\tAUX2 = 26\n",
    "\tAUX3 = 27\n",
    "\tAUX4 = 28\n",
    "\tCOOL = 29 \t\t# coolant temp or tach3\n",
    "\tETI = 30 \t\t# hour meter, resolution 0.1 hour\n",
    "\tQTY = 31\t\t# fuel qty resolution 0.1 gal\n",
    "\tHRS = 32 \t\t# 1-byte, flight timer hours\n",
    "\tMIN = 33\t\t# 1-byte\n",
    "\tSEC = 34 \t\t# 1-byte\n",
    "\tENDHRS = 35 \t# 1-byte, fuel flow time til empty, hours\n",
    "\tENDMINS = 36\t# 1-byte, fuel flow time til empty, mins\n",
    "\tBARO = 37\t\t# altimeter setting in inches of Hg, resolution 0.01\"\n",
    "\tTACH2 = 38\n",
    "\tSPARE = 39\t\t# 1-byte\n",
    "\tCHK = 40\t\t# 1-byte checksum"
   ]
  },
  {
   "cell_type": "markdown",
   "id": "f5406efe-edd4-4e3f-8306-7e6c804aefc5",
   "metadata": {},
   "source": [
    "# Load Existing Database"
   ]
  },
  {
   "cell_type": "code",
   "execution_count": null,
   "id": "85e2d4a1-c203-49ea-9076-51b3d97b530b",
   "metadata": {},
   "outputs": [],
   "source": [
    "# with open('/path/to/file', 'rb') as f:\n",
    "#     read_df = feather.read_feather(f)"
   ]
  },
  {
   "cell_type": "markdown",
   "id": "15736b0a-89e5-4e9e-a5bd-41314065d1f2",
   "metadata": {},
   "source": [
    "# Parse New Log Files"
   ]
  },
  {
   "cell_type": "code",
   "execution_count": null,
   "id": "d7c24903-c2be-49be-9bd4-f42376f73dbd",
   "metadata": {
    "jupyter": {
     "source_hidden": true
    }
   },
   "outputs": [],
   "source": [
    "# import os\n",
    "\n",
    "# directory = os.fsencode(directory_in_str)\n",
    "    \n",
    "# for file in os.listdir(directory):\n",
    "#      filename = os.fsdecode(file)\n",
    "#      if filename.endswith(\".asm\") or filename.endswith(\".py\"): \n",
    "#          # print(os.path.join(directory, filename))\n",
    "#          continue\n",
    "#      else:\n",
    "#          continue\n",
    "\n",
    "# 'rb' flag required to read text file in binary format\n",
    "with open('TESTLOG.TXT','rb') as logfilbute:\n",
    "\t# largest log file I've managed to generate so far is 13.9 MB\n",
    "\tlogbuffer = logfile.read()\n",
    "\n",
    "lines = logbuffer.split(b'\\xfe\\xff\\xfe')\n",
    "print(\"Read %d points from log file.\" % len(lines))\n",
    "\n",
    "# presume first and last packet are incomplete and dump them\n",
    "for idx, line in enumerate(lines[1:len(lines)-1]):\n",
    "\ttry:\n",
    "\t\tunpacked_line = struct.unpack('>hhhhhhhhhhhhhhhhhhhbbbbhbhhhhhhhbbbbbhhbb', line)\n",
    "\texcept:\n",
    "\t\tprint(\"Bad packet at idx %d\" % idx)\n",
    "\n",
    "\tlog_data[\"tach\"].append(unpacked_line[LogFmt.TACH])\n",
    "\tlog_data[\"cht2\"].append(unpacked_line[LogFmt.CHT2])\n",
    "\tlog_data[\"cht3\"].append(unpacked_line[LogFmt.CHT3])\n",
    "\tlog_data[\"egt1\"].append(unpacked_line[LogFmt.EGT1])\n",
    "\tlog_data[\"egt2\"].append(unpacked_line[LogFmt.EGT2])\n",
    "\tlog_data[\"egt3\"].append(unpacked_line[LogFmt.EGT3])\n",
    "\tlog_data[\"egt4\"].append(unpacked_line[LogFmt.EGT4])\n",
    "\tlog_data[\"volts\"].append(unpacked_line[LogFmt.VOLT] * 0.1)\n",
    "\tlog_data[\"unit_temp_f\"].append(unpacked_line[LogFmt.UNITT])\n",
    "\tlog_data[\"coolant_temp_f\"].append(unpacked_line[LogFmt.COOL])\n",
    "\tlog_data[\"oil_temp_f\"].append(unpacked_line[LogFmt.OILT])\n",
    "\tlog_data[\"oil_pres_psi\"].append(unpacked_line[LogFmt.OILP])\n",
    "\tlog_data[\"aux1\"].append(unpacked_line[LogFmt.AUX1])\n",
    "\tlog_data[\"aux2\"].append(unpacked_line[LogFmt.AUX2])\n",
    "\tlog_data[\"aux3\"].append(unpacked_line[LogFmt.AUX3])\n",
    "\tlog_data[\"aux4\"].append(unpacked_line[LogFmt.AUX4])\n",
    "\tlog_data[\"aux5\"].append(unpacked_line[LogFmt.AUX5])\n",
    "\tlog_data[\"aux6\"].append(unpacked_line[LogFmt.AUX6])\n",
    "\tlog_data[\"tach_hrs\"].append(unpacked_line[LogFmt.ETI] * 0.1)\n",
    "\tlog_data[\"flight_hrs\"].append(unpacked_line[LogFmt.HRS] + (unpacked_line[LogFmt.MIN] / 60) + (unpacked_line[LogFmt.SEC] / 3600))\n",
    "\n",
    "print(\"Processed %d lines\" % idx)\n",
    "\n",
    "\n",
    "log_dataframe = pd.DataFrame(log_data)\n",
    "print(log_dataframe)"
   ]
  },
  {
   "cell_type": "markdown",
   "id": "d2ff4a7a-5faf-486d-a799-4b89d136c1aa",
   "metadata": {},
   "source": [
    "# Save New Database"
   ]
  },
  {
   "cell_type": "code",
   "execution_count": null,
   "id": "4401424a-3509-4576-8ccd-4ad6b21a03ce",
   "metadata": {},
   "outputs": [],
   "source": [
    "# feather.write_feather(df, '/path/to/file')\n"
   ]
  },
  {
   "cell_type": "markdown",
   "id": "8ab53b03-03c1-4ad6-b5c8-b2dc1525bf56",
   "metadata": {},
   "source": [
    "# Log Review Tools\n",
    "\n",
    "## List Recorded Flights"
   ]
  },
  {
   "cell_type": "code",
   "execution_count": null,
   "id": "bffd9585-1389-4b81-ac25-4f888405cea9",
   "metadata": {},
   "outputs": [],
   "source": []
  },
  {
   "cell_type": "markdown",
   "id": "cb6943f7-a06a-45cd-9edc-1082db1237ae",
   "metadata": {},
   "source": [
    "## Select Flights to Plot"
   ]
  },
  {
   "cell_type": "code",
   "execution_count": null,
   "id": "b3a3c8ef-3626-4807-b767-dbce80f06a12",
   "metadata": {},
   "outputs": [],
   "source": []
  },
  {
   "cell_type": "markdown",
   "id": "06fe9a57-bb52-4fe5-853f-7e84d0e95421",
   "metadata": {},
   "source": [
    "## List Available Telemetry Channels"
   ]
  },
  {
   "cell_type": "code",
   "execution_count": null,
   "id": "7d7c8c07-4cbb-496a-a3fc-cb271f927e33",
   "metadata": {},
   "outputs": [],
   "source": []
  },
  {
   "cell_type": "markdown",
   "id": "63301e6c-8955-4704-9851-93e73106d838",
   "metadata": {},
   "source": [
    "## Choose Plot Layout and Channels for Each"
   ]
  },
  {
   "cell_type": "code",
   "execution_count": null,
   "id": "125a84be-a3b5-487f-8db9-04467018ef98",
   "metadata": {},
   "outputs": [],
   "source": []
  }
 ],
 "metadata": {
  "kernelspec": {
   "display_name": "Python 3 (ipykernel)",
   "language": "python",
   "name": "python3"
  },
  "language_info": {
   "codemirror_mode": {
    "name": "ipython",
    "version": 3
   },
   "file_extension": ".py",
   "mimetype": "text/x-python",
   "name": "python",
   "nbconvert_exporter": "python",
   "pygments_lexer": "ipython3",
   "version": "3.11.4"
  }
 },
 "nbformat": 4,
 "nbformat_minor": 5
}
